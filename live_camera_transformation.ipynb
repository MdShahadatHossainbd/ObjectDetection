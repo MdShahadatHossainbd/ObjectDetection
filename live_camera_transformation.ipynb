{
  "nbformat": 4,
  "nbformat_minor": 0,
  "metadata": {
    "colab": {
      "name": "live camera transformation.ipynb",
      "provenance": [],
      "authorship_tag": "ABX9TyPvVdhUfCkPCDNZgfXPFRYU",
      "include_colab_link": true
    },
    "kernelspec": {
      "name": "python3",
      "display_name": "Python 3"
    },
    "accelerator": "GPU"
  },
  "cells": [
    {
      "cell_type": "markdown",
      "metadata": {
        "id": "view-in-github",
        "colab_type": "text"
      },
      "source": [
        "<a href=\"https://colab.research.google.com/github/MdShahadatHossainbd/ObjectDetection/blob/master/live_camera_transformation.ipynb\" target=\"_parent\"><img src=\"https://colab.research.google.com/assets/colab-badge.svg\" alt=\"Open In Colab\"/></a>"
      ]
    },
    {
      "cell_type": "code",
      "metadata": {
        "id": "ewwqu_1XHqri",
        "colab_type": "code",
        "colab": {}
      },
      "source": [
        "import cv2\n",
        "import numpy as np\n",
        "cap = cv2.VideoCapture(0)\n",
        "while True:\n",
        "  _, img = cap.read()\n",
        "  img = cv2.resize(img,(640,350))\n",
        "\n",
        "  org_img = img.copy()\n",
        "  gray = cv2.cvtColor(img, cv2.COLOR_BGR2GRAY)\n",
        "\n",
        "  _,thres = cv2.threshold(gray, 0, 255, cv2.THRESH_OTSU)\n",
        "\n",
        "  edges = cv2.Canny(img,100,200)\n",
        "\n",
        "  cont,_ = cv2.findContours(thres, cv2.RETR_TREE, cv2.CHAIN_APPROX_SIMPLE)\n",
        "\n",
        "  image = cv2.drawContours(img,cont, -1,(0,255,0),2)\n",
        "\n",
        "  edges_3d = cv2.cvtColor(edges, cv2.COLOR_GRAY2BGR)\n",
        "  thres_3d = cv2.cvtColor(thres, cv2.COLOR_GRAY2BGR)\n",
        "\n",
        "  np_hroz1 = np.hstack(( thres_3d, edges_3d))\n",
        "  np_hroz2 = np.hstack(( image, org_img))\n",
        "\n",
        "  final = np.vstack((np_hroz1, np_hroz2))\n",
        "\n",
        "  cv2.imshow('couple',final)\n",
        "\n",
        "  if cv2.waitKey(1) == ord('q'):\n",
        "      break\n",
        "cap.release()\n",
        "cv2.destroyAllWindows()"
      ],
      "execution_count": null,
      "outputs": []
    }
  ]
}